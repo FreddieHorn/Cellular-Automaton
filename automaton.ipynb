{
 "cells": [
  {
   "attachments": {},
   "cell_type": "markdown",
   "metadata": {},
   "source": [
    "# Cellular Automaton"
   ]
  },
  {
   "cell_type": "code",
   "execution_count": 1,
   "metadata": {},
   "outputs": [],
   "source": [
    "import numpy as np\n",
    "import random\n",
    "from itertools import chain"
   ]
  },
  {
   "attachments": {},
   "cell_type": "markdown",
   "metadata": {},
   "source": [
    "### Setting up parameters for neighbour radius **r**, number of cells and fixed cells, which are always fixed to a certain value "
   ]
  },
  {
   "cell_type": "code",
   "execution_count": 2,
   "metadata": {},
   "outputs": [],
   "source": [
    "r = 1 #neighbour radius\n",
    "num_cells = 84\n",
    "fixed_cells = [0,1,82,83] #value of cells with indices contained in the list is always 0\n",
    "num_iterations = 20"
   ]
  },
  {
   "cell_type": "code",
   "execution_count": 3,
   "metadata": {},
   "outputs": [],
   "source": [
    "seed = [42] #this means that cell with index 42 will take value 1"
   ]
  },
  {
   "attachments": {},
   "cell_type": "markdown",
   "metadata": {},
   "source": [
    "## Auxilary functions"
   ]
  },
  {
   "attachments": {},
   "cell_type": "markdown",
   "metadata": {},
   "source": [
    "### Creating two possible starting conditions for the CA. A preset seed and random starting condition, where each cell is set to either 0 or 1 with probability=0.5 "
   ]
  },
  {
   "cell_type": "code",
   "execution_count": 14,
   "metadata": {},
   "outputs": [],
   "source": [
    "def cells_generator(start_condition, seed=None):\n",
    "    if start_condition == \"S\":\n",
    "        starting_cells = ['0']*num_cells\n",
    "        for ind in seed:\n",
    "            starting_cells[ind] = '1'\n",
    "        return starting_cells\n",
    "    else:\n",
    "        random_cells = ['0' if _ in fixed_cells else str(random.randint(0,1)) for _ in range(num_cells)]\n",
    "        return random_cells"
   ]
  },
  {
   "cell_type": "code",
   "execution_count": 15,
   "metadata": {},
   "outputs": [],
   "source": [
    "def generate_binary_numbers(n):\n",
    "    \"\"\"\n",
    "    Returns a list of binary numbers from 0 to (2^n)-1 in reverse order\n",
    "    \n",
    "    :param n: integer value\n",
    "    :return: list of binary numbers in reverse order\n",
    "    \"\"\"\n",
    "    binary_numbers = []\n",
    "    for i in range(2**n):\n",
    "        binary_number = bin(i)[2:]\n",
    "        if len(binary_number) < n:\n",
    "            binary_number = '0'*(n-len(binary_number)) + binary_number\n",
    "        binary_numbers.append(binary_number[-n:])\n",
    "    return binary_numbers[::-1]"
   ]
  },
  {
   "cell_type": "code",
   "execution_count": 34,
   "metadata": {},
   "outputs": [],
   "source": [
    "def color_ones(inp_str):\n",
    "    colored_string = \"\"\n",
    "    for char in inp_str:\n",
    "        if char == \"1\":\n",
    "            colored_string += \"\\033[31m\" + char + \"\\033[0m\"\n",
    "        else:\n",
    "            colored_string += char\n",
    "    return colored_string"
   ]
  },
  {
   "cell_type": "code",
   "execution_count": 35,
   "metadata": {},
   "outputs": [
    {
     "ename": "UnboundLocalError",
     "evalue": "local variable 'colored_string' referenced before assignment",
     "output_type": "error",
     "traceback": [
      "\u001b[1;31m---------------------------------------------------------------------------\u001b[0m",
      "\u001b[1;31mUnboundLocalError\u001b[0m                         Traceback (most recent call last)",
      "Cell \u001b[1;32mIn[35], line 1\u001b[0m\n\u001b[1;32m----> 1\u001b[0m \u001b[39mprint\u001b[39m(color_ones(\u001b[39m\"\u001b[39;49m\u001b[39m1001001\u001b[39;49m\u001b[39m\"\u001b[39;49m))\n",
      "Cell \u001b[1;32mIn[34], line 4\u001b[0m, in \u001b[0;36mcolor_ones\u001b[1;34m(inp_str)\u001b[0m\n\u001b[0;32m      2\u001b[0m \u001b[39mfor\u001b[39;00m char \u001b[39min\u001b[39;00m inp_str:\n\u001b[0;32m      3\u001b[0m     \u001b[39mif\u001b[39;00m char \u001b[39m==\u001b[39m \u001b[39m\"\u001b[39m\u001b[39m1\u001b[39m\u001b[39m\"\u001b[39m:\n\u001b[1;32m----> 4\u001b[0m         colored_string \u001b[39m+\u001b[39m\u001b[39m=\u001b[39m \u001b[39m\"\u001b[39m\u001b[39m\\033\u001b[39;00m\u001b[39m[31m\u001b[39m\u001b[39m\"\u001b[39m \u001b[39m+\u001b[39m char \u001b[39m+\u001b[39m \u001b[39m\"\u001b[39m\u001b[39m\\033\u001b[39;00m\u001b[39m[0m\u001b[39m\u001b[39m\"\u001b[39m\n\u001b[0;32m      5\u001b[0m     \u001b[39melse\u001b[39;00m:\n\u001b[0;32m      6\u001b[0m         colored_string \u001b[39m+\u001b[39m\u001b[39m=\u001b[39m char\n",
      "\u001b[1;31mUnboundLocalError\u001b[0m: local variable 'colored_string' referenced before assignment"
     ]
    }
   ],
   "source": [
    "print(color_ones(\"1001001\"))"
   ]
  },
  {
   "attachments": {},
   "cell_type": "markdown",
   "metadata": {},
   "source": [
    "## Main Program"
   ]
  },
  {
   "attachments": {},
   "cell_type": "markdown",
   "metadata": {},
   "source": [
    "### User input"
   ]
  },
  {
   "cell_type": "code",
   "execution_count": 28,
   "metadata": {},
   "outputs": [
    {
     "name": "stdout",
     "output_type": "stream",
     "text": [
      "Welcome to Cellular Automaton.\n"
     ]
    }
   ],
   "source": [
    "print(\"Welcome to Cellular Automaton.\")\n",
    "\n",
    "r = int(input(\"\\nPlease enter the neighbour radius (int): \"))\n",
    "start_condition = input(\"\\nPlease enter the starting condition (S - seed/R - random): \")\n",
    "rule = input(\"\\nPlease enter the rule for the CA (Wolfram Notation): \")"
   ]
  },
  {
   "cell_type": "code",
   "execution_count": 29,
   "metadata": {},
   "outputs": [
    {
     "name": "stdout",
     "output_type": "stream",
     "text": [
      "1\n",
      "R\n",
      "00010010\n"
     ]
    }
   ],
   "source": [
    "print(r)\n",
    "print(start_condition)\n",
    "print(rule)"
   ]
  },
  {
   "cell_type": "code",
   "execution_count": 30,
   "metadata": {},
   "outputs": [],
   "source": [
    "neighbourhood_size = 2*r + 1\n",
    "binary_list = generate_binary_numbers(neighbourhood_size)"
   ]
  },
  {
   "cell_type": "code",
   "execution_count": 31,
   "metadata": {},
   "outputs": [],
   "source": [
    "if len(rule)!=len(binary_list):\n",
    "    print(\"Lenght of the rule is wrong!\")\n",
    "else: \n",
    "    complete_rules = {binary_list[i]: rule[i] for i in range(len(rule))} #this dictionary will help us while looking for neighbour patterns\n"
   ]
  },
  {
   "cell_type": "code",
   "execution_count": 32,
   "metadata": {},
   "outputs": [
    {
     "name": "stdout",
     "output_type": "stream",
     "text": [
      "{'111': '0', '110': '0', '101': '0', '100': '1', '011': '0', '010': '0', '001': '1', '000': '0'}\n"
     ]
    }
   ],
   "source": [
    "print(complete_rules)\n",
    "cells = cells_generator(start_condition, seed) "
   ]
  },
  {
   "attachments": {},
   "cell_type": "markdown",
   "metadata": {},
   "source": [
    "### Main loop of the program"
   ]
  },
  {
   "cell_type": "code",
   "execution_count": 33,
   "metadata": {},
   "outputs": [
    {
     "name": "stdout",
     "output_type": "stream",
     "text": [
      "000111001000111011011100000101100100000111111010010100100001000111011110010101001000\n",
      "001000110101000000000010001000011010001000000001100011010010101000000001100000110100\n",
      "000101000000100000000101010100100001010100000010010100001100000100000010010001000000\n",
      "001000100001010000001000000011010010000010000101100010010010001010000101101010100000\n",
      "000101010010001000010100000100001101000101001000010101101101010001001000000000010000\n",
      "001000001101010100100010001010010000101000110100100000000000001010110100000000101000\n",
      "000100010000000011010101010001101001000101000011010000000000010000000010000001000100\n",
      "001010101000000100000000001010000110101000100100001000000000101000000101000010101000\n",
      "000000000100001010000000010001001000000101011010010100000001000100001000100100000100\n",
      "000000001010010001000000101010110100001000000001100010000010101010010101011010001000\n",
      "000000010001101010100001000000000010010100000010010101000100000001100000000001010100\n",
      "000000101010000000010010100000000101100010000101100000101010000010010000000010000000\n",
      "000001000001000000101100010000001000010101001000010001000001000101101000000101000000\n",
      "000010100010100001000010101000010100100000110100101010100010101000000100001000100000\n",
      "000100010100010010100100000100100011010001000011000000010100000100001010010101010000\n",
      "001010100010101100011010001011010100001010100100100000100010001010010001100000001000\n",
      "000000010100000010100001010000000010010000011011010001010101010001101010010000010100\n",
      "000000100010000100010010001000000101101000100000001010000000001010000001101000100000\n",
      "000001010101001010101101010100001000000101010000010001000000010001000010000101010000\n",
      "000010000000110000000000000010010100001000001000101010100000101010100101001000001000\n"
     ]
    }
   ],
   "source": [
    "running = True\n",
    "iter = 0\n",
    "while running:\n",
    "    iter+=1\n",
    "    new_cells = ['0']*num_cells\n",
    "    print(''.join(str(i) for i in cells))\n",
    "    for ind, cell in enumerate(cells):\n",
    "        if ind not in fixed_cells:\n",
    "            neighbourhood = []\n",
    "            for i in range(-r,r+1): #checking the neighbourhood of the cell\n",
    "                neighbourhood.append(cells[ind+i])\n",
    "            all_neighbours = ''.join(neighbourhood) #concanting all the neighbours and looking up the pattern in the dictionary\n",
    "            cell = complete_rules[all_neighbours]\n",
    "            new_cells[ind] = cell\n",
    "        else:\n",
    "            new_cells[ind] = cell \n",
    "    cells = new_cells #updating the cells\n",
    "    if iter == num_iterations:\n",
    "        running = False\n"
   ]
  }
 ],
 "metadata": {
  "kernelspec": {
   "display_name": "muzg",
   "language": "python",
   "name": "python3"
  },
  "language_info": {
   "codemirror_mode": {
    "name": "ipython",
    "version": 3
   },
   "file_extension": ".py",
   "mimetype": "text/x-python",
   "name": "python",
   "nbconvert_exporter": "python",
   "pygments_lexer": "ipython3",
   "version": "3.10.9"
  },
  "orig_nbformat": 4
 },
 "nbformat": 4,
 "nbformat_minor": 2
}
