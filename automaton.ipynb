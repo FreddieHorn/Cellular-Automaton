{
 "cells": [
  {
   "attachments": {},
   "cell_type": "markdown",
   "metadata": {},
   "source": [
    "# Cellular Automaton"
   ]
  },
  {
   "cell_type": "code",
   "execution_count": 47,
   "metadata": {},
   "outputs": [],
   "source": [
    "import numpy as np\n",
    "import random\n",
    "from itertools import chain"
   ]
  },
  {
   "attachments": {},
   "cell_type": "markdown",
   "metadata": {},
   "source": [
    "### Setting up parameters for neighbour radius **r**, number of cells and fixed cells, which are always fixed to a certain value "
   ]
  },
  {
   "cell_type": "code",
   "execution_count": 4,
   "metadata": {},
   "outputs": [],
   "source": [
    "r = 1 #neighbour radius\n",
    "num_cells = 84\n",
    "fixed_cells = [0,1,82,83] #value of cells with indices contained in the list is always 0"
   ]
  },
  {
   "cell_type": "code",
   "execution_count": 27,
   "metadata": {},
   "outputs": [
    {
     "name": "stdout",
     "output_type": "stream",
     "text": [
      "[0, 0, 0, 0, 0, 0, 1, 1, 0, 0, 0, 0, 1, 0, 1, 0, 0, 0, 0, 0, 0, 1, 1, 1, 1, 1, 1, 0, 1, 1, 0, 1, 1, 1, 1, 1, 1, 1, 1, 0, 1, 1, 0, 0, 0, 1, 1, 0, 1, 1, 1, 1, 0, 1, 0, 1, 0, 0, 0, 1, 1, 0, 1, 1, 1, 1, 1, 1, 1, 1, 0, 1, 0, 1, 0, 1, 0, 1, 0, 0, 0, 1, 0, 0]\n"
     ]
    }
   ],
   "source": [
    "seed = [42] #this means that cell with index 42 will take value 1"
   ]
  },
  {
   "attachments": {},
   "cell_type": "markdown",
   "metadata": {},
   "source": [
    "## Auxilary functions"
   ]
  },
  {
   "attachments": {},
   "cell_type": "markdown",
   "metadata": {},
   "source": [
    "### Creating two possible starting conditions for the CA. A preset seed and random starting condition, where each cell is set to either 0 or 1 with probability=0.5 "
   ]
  },
  {
   "cell_type": "code",
   "execution_count": 43,
   "metadata": {},
   "outputs": [],
   "source": [
    "def cells_generator(start_condition, seed=None):\n",
    "    if start_condition == \"S\":\n",
    "        starting_cells = [0]*num_cells\n",
    "        for ind in seed:\n",
    "            starting_cells[ind] = 1\n",
    "        return starting_cells\n",
    "    else:\n",
    "        random_cells = [0 if _ in fixed_cells else random.randint(0,1) for _ in range(num_cells)]\n",
    "        return random_cells"
   ]
  },
  {
   "cell_type": "code",
   "execution_count": 44,
   "metadata": {},
   "outputs": [],
   "source": [
    "def generate_binary_numbers(n):\n",
    "    \"\"\"\n",
    "    Returns a list of binary numbers from 0 to (2^n)-1 in reverse order\n",
    "    \n",
    "    :param n: integer value\n",
    "    :return: list of binary numbers in reverse order\n",
    "    \"\"\"\n",
    "    binary_numbers = []\n",
    "    for i in range(2**n):\n",
    "        binary_number = bin(i)[2:]\n",
    "        if len(binary_number) < n:\n",
    "            binary_number = '0'*(n-len(binary_number)) + binary_number\n",
    "        binary_numbers.append(binary_number[-n:])\n",
    "    return binary_numbers[::-1]"
   ]
  },
  {
   "attachments": {},
   "cell_type": "markdown",
   "metadata": {},
   "source": [
    "## Main Program"
   ]
  },
  {
   "cell_type": "code",
   "execution_count": 39,
   "metadata": {},
   "outputs": [
    {
     "name": "stdout",
     "output_type": "stream",
     "text": [
      "Weclome to Cellular Automaton.\n"
     ]
    }
   ],
   "source": [
    "print(\"Welcome to Cellular Automaton.\")\n",
    "\n",
    "r = int(input(\"\\nPlease enter the neighbour radius (int): \"))\n",
    "start_condition = input(\"\\nPlease enter the starting condition (S - seed/R - random): \")\n",
    "rule = input(\"\\nPlease enter the rule for the CA (Wolfram Notation): \")"
   ]
  },
  {
   "cell_type": "code",
   "execution_count": 40,
   "metadata": {},
   "outputs": [
    {
     "name": "stdout",
     "output_type": "stream",
     "text": [
      "['111', '110', '101', '100', '011', '010', '001', '000']\n"
     ]
    }
   ],
   "source": [
    "neighbourhood_size = 2*r + 1\n",
    "binary_list = generate_binary_numbers(neighbourhood_size)"
   ]
  },
  {
   "cell_type": "code",
   "execution_count": 45,
   "metadata": {},
   "outputs": [],
   "source": [
    "if len(rule)!=len(binary_list):\n",
    "    print(\"Lenght of the rule is wrong!\")\n",
    "else: \n",
    "    complete_rules = {binary_list[i]: rule[i] for i in range(len(rule))}\n"
   ]
  },
  {
   "cell_type": "code",
   "execution_count": 46,
   "metadata": {},
   "outputs": [],
   "source": [
    "print()\n",
    "cells = cells_generator(start_condition, seed)\n",
    "concatenated_r_range = chain(range(-r, 0), range(0, r+1))"
   ]
  },
  {
   "cell_type": "code",
   "execution_count": null,
   "metadata": {},
   "outputs": [],
   "source": [
    "\n",
    "new_cells = [0]*num_cells\n",
    "for ind, cell in enumerate(cells):\n",
    "    if ind not in fixed_cells:\n",
    "        neighbourhood = []\n",
    "        for i in range(-r,r+1):\n",
    "            neighbourhood.append[str(cells[ind-i])]\n",
    "            neighbourhood = ''.join(neighbourhood)\n",
    "    cell = complete_rules[neighbourhood]\n",
    "            \n",
    "            \n",
    "\n",
    "\n"
   ]
  }
 ],
 "metadata": {
  "kernelspec": {
   "display_name": "muzg",
   "language": "python",
   "name": "python3"
  },
  "language_info": {
   "codemirror_mode": {
    "name": "ipython",
    "version": 3
   },
   "file_extension": ".py",
   "mimetype": "text/x-python",
   "name": "python",
   "nbconvert_exporter": "python",
   "pygments_lexer": "ipython3",
   "version": "3.10.9"
  },
  "orig_nbformat": 4
 },
 "nbformat": 4,
 "nbformat_minor": 2
}
